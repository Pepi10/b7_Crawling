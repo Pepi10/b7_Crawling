{
 "cells": [
  {
   "cell_type": "markdown",
   "metadata": {},
   "source": [
    "# 랠릿 전처리"
   ]
  },
  {
   "cell_type": "code",
   "execution_count": 1,
   "metadata": {},
   "outputs": [],
   "source": [
    "import pandas as pd\n",
    "import numpy as np \n",
    "import re"
   ]
  },
  {
   "cell_type": "code",
   "execution_count": 2,
   "metadata": {},
   "outputs": [],
   "source": [
    "ral_df = pd.read_csv('rallit_pre0.csv', index_col=0)  # 기존\n",
    "incru_df = pd.read_csv('incru_pre0.csv', index_col=0)  # 인크루트 전처리된 파일\n",
    "cat_df = pd.read_csv('cat_pre0.csv', index_col=0)  # 캐치 전처리된 파일"
   ]
  },
  {
   "cell_type": "markdown",
   "metadata": {},
   "source": [
    "# 랠릿 전처리\n",
    "- 주소\n",
    "- 직급"
   ]
  },
  {
   "cell_type": "code",
   "execution_count": 3,
   "metadata": {},
   "outputs": [],
   "source": [
    "# 주소 전처리\n",
    "address_list = []\n",
    "\n",
    "for ad in ral_df['주소']:\n",
    "    try:\n",
    "        # 우편번호 패턴을 찾아서 제거\n",
    "        ad = re.sub(r'^\\d{5}\\s', '', ad).strip()\n",
    "        # 글자 변경\n",
    "        if '대한민국' in ad:\n",
    "            ad = re.sub('대한민국', '', ad).strip()\n",
    "        elif '서울' in ad and '특별시' not in ad:\n",
    "            ad = re.sub('서울','서울특별시',ad).strip()\n",
    "        elif '경기' in ad and '경기도' not in ad:\n",
    "            ad = re.sub('경기','경기도',ad).strip()\n",
    "        elif '인천' in ad and '광역시' not in ad:\n",
    "            ad = re.sub('인천','인천광역시',ad).strip()\n",
    "\n",
    "        address_list.append(ad)\n",
    "    except:\n",
    "        address_list.append('')\n",
    "# 구,시,도로 끝나는 단어 리스트 정렬\n",
    "add_list = [' '.join(re.findall(r'\\b(\\w+[구시도])\\b', address)) for address in address_list]\n",
    "\n",
    "ral_df['주소'] = add_list"
   ]
  },
  {
   "cell_type": "code",
   "execution_count": 4,
   "metadata": {},
   "outputs": [],
   "source": [
    "# 직급 전처리\n",
    "career_list = []\n",
    "\n",
    "for car in ral_df['직급']:\n",
    "    try:\n",
    "        if '주니어' in car or '미들' in car or '시니어' in car:  # 무관이 없는 경우 최소단위\n",
    "            career_list.append(re.findall('\\d+', car)[0])\n",
    "\n",
    "        elif '인턴' in car:  # 신입인 경우 0\n",
    "            career_list.append(0)\n",
    "                            \n",
    "        else:  # 무관이 있는 경우 0\n",
    "            career_list.append(0) \n",
    "    except:\n",
    "        career_list.append(0)\n",
    "ral_df['직급'] = career_list\n",
    "ral_df['직급'] = ral_df['직급'].astype(int)  # int타입 변경"
   ]
  },
  {
   "cell_type": "code",
   "execution_count": 5,
   "metadata": {},
   "outputs": [],
   "source": [
    "# 인덱스 재설정\n",
    "ral_df.reset_index(drop=True, inplace=True)\n",
    "# 전처리된 파일 저장\n",
    "ral_df.to_csv('./ral_pre0.csv')"
   ]
  },
  {
   "cell_type": "markdown",
   "metadata": {},
   "source": [
    "# 기존 데이터에 전처리된 파일들 머지하기\n",
    "- 머지 순서는 위에서 정리한 1번부터 5번까지 진행됩니다."
   ]
  },
  {
   "cell_type": "code",
   "execution_count": 6,
   "metadata": {},
   "outputs": [],
   "source": [
    "# 중복값 제거\n",
    "incru_df.drop_duplicates(inplace=True)\n",
    "cat_df.drop_duplicates(inplace=True)\n",
    "# 인덱스 재설정\n",
    "incru_df.reset_index(drop=True, inplace=True)\n",
    "cat_df.reset_index(drop=True, inplace=True)"
   ]
  },
  {
   "cell_type": "code",
   "execution_count": 7,
   "metadata": {},
   "outputs": [],
   "source": [
    "# 랠릿에 인크루트 머지\n",
    "df_merge1 = pd.merge(ral_df, incru_df, on='기업명', how='left', suffixes=('', '_incru'))\n",
    "\n",
    "# 합친 데이터프레임에서 인크루트에서 온 컬럼만 선택하기\n",
    "cols_to_update = [col for col in df_merge1.columns if '_incru' in col]\n",
    "\n",
    "# 원래 컬럼의 결측치를 인크루트에서 가져온 값으로 채우기\n",
    "for col in cols_to_update:\n",
    "    orig_col = col.replace('_incru', '')  # 원래 컬럼 이름\n",
    "    # 원래 컬럼의 결측치를 채움\n",
    "    df_merge1[orig_col] = df_merge1[orig_col].combine_first(df_merge1[col])\n",
    "\n",
    "# 추가된 컬럼 제거\n",
    "df_merge1.drop(columns=cols_to_update, inplace=True)"
   ]
  },
  {
   "cell_type": "code",
   "execution_count": 8,
   "metadata": {},
   "outputs": [],
   "source": [
    "# 캐치 머지\n",
    "df_merge2 = pd.merge(df_merge1, cat_df, on='기업명', how='left', suffixes=('', '_catch'))\n",
    "\n",
    "# 합친 데이터프레임에서 캐치에서 온 컬럼만 선택하기\n",
    "cols_to_update = [col for col in df_merge2.columns if '_catch' in col]\n",
    "\n",
    "# 원래 컬럼의 결측치를 캐치에서 가져온 값으로 채우기\n",
    "for col in cols_to_update:\n",
    "    orig_col = col.replace('_catch', '')  # 원래 컬럼 이름\n",
    "    # 원래 컬럼의 결측치를 채움\n",
    "    df_merge2[orig_col] = df_merge2[orig_col].combine_first(df_merge2[col])\n",
    "\n",
    "# 추가된 컬럼 제거\n",
    "df_merge2.drop(columns=cols_to_update, inplace=True)"
   ]
  },
  {
   "cell_type": "code",
   "execution_count": 9,
   "metadata": {},
   "outputs": [],
   "source": [
    "# 중복된 값 제거 및 index 재설정\n",
    "df_merge2 = df_merge2.drop_duplicates().reset_index(drop=True)\n",
    "# 컬럼 순서 지정\n",
    "df_merge2 = df_merge2[['기업명', '업종분류', '사원수', '설립연도', '기업형태', '매출액', '주소', '직무', '이용하는 기술스택',\n",
    "            '자격요건', '직급', '우대사항', '해당 페이지 URL', '기업 홈페이지 URL']]\n",
    "\n",
    "# 최종 파일 저장\n",
    "df_merge2.to_csv('./rallit_end.csv')\n",
    "df_merge2.to_excel('./rallit_end.xlsx')"
   ]
  },
  {
   "cell_type": "markdown",
   "metadata": {},
   "source": [
    "# 직무 전처리"
   ]
  },
  {
   "cell_type": "code",
   "execution_count": 10,
   "metadata": {},
   "outputs": [],
   "source": [
    "import pandas as pd\n",
    "ral_jd = pd.read_csv('rallit_jd.csv')"
   ]
  },
  {
   "cell_type": "code",
   "execution_count": 11,
   "metadata": {},
   "outputs": [
    {
     "data": {
      "text/plain": [
       "0      데브옵스 엔지니어\n",
       "1        백엔드 개발자\n",
       "2        백엔드 개발자\n",
       "3        백엔드 개발자\n",
       "4     미디어 서버 개발자\n",
       "         ...    \n",
       "61     프론트엔드 개발자\n",
       "62       백엔드 개발자\n",
       "63       백엔드 개발자\n",
       "64     프론트엔드 개발자\n",
       "65     데브옵스 엔지니어\n",
       "Name: 직무, Length: 66, dtype: object"
      ]
     },
     "execution_count": 11,
     "metadata": {},
     "output_type": "execute_result"
    }
   ],
   "source": [
    "ral_jd['직무']"
   ]
  },
  {
   "cell_type": "code",
   "execution_count": 12,
   "metadata": {},
   "outputs": [],
   "source": [
    "# 기존의 직무를 제외한 새로운 데이터 생성\n",
    "ral_copy = ral_df.drop(['직무'], axis=1).copy()"
   ]
  },
  {
   "cell_type": "code",
   "execution_count": 13,
   "metadata": {},
   "outputs": [],
   "source": [
    "ral_jd = ral_jd.drop_duplicates(subset='기업명', keep='first')  # 변경할 직무가 있는 데이터 중복 제거\n",
    "df_merged = pd.merge(ral_copy, ral_jd, on='기업명', how='left')  # 기업명을 기준으로 머지"
   ]
  }
 ],
 "metadata": {
  "kernelspec": {
   "display_name": "base",
   "language": "python",
   "name": "python3"
  },
  "language_info": {
   "codemirror_mode": {
    "name": "ipython",
    "version": 3
   },
   "file_extension": ".py",
   "mimetype": "text/x-python",
   "name": "python",
   "nbconvert_exporter": "python",
   "pygments_lexer": "ipython3",
   "version": "3.11.5"
  }
 },
 "nbformat": 4,
 "nbformat_minor": 2
}
