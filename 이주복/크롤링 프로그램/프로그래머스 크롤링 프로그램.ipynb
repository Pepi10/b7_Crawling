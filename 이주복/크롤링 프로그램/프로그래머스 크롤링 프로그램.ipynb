{
 "cells": [
  {
   "cell_type": "code",
   "execution_count": 1,
   "metadata": {},
   "outputs": [],
   "source": [
    "import pandas as pd\n",
    "# 정적크롤링\n",
    "from bs4 import BeautifulSoup\n",
    "import requests\n",
    "import re\n",
    "# 동적크롤링\n",
    "from selenium import webdriver\n",
    "from selenium.webdriver.common.by import By\n",
    "import time"
   ]
  },
  {
   "cell_type": "code",
   "execution_count": 2,
   "metadata": {},
   "outputs": [],
   "source": [
    "programmers_res = pd.DataFrame(columns=['기업명','사원수','주소','직무','이용하는 기술스택','자격요건','직급','우대사항','해당 페이지 URL','기업 홈페이지 URL'])"
   ]
  },
  {
   "cell_type": "code",
   "execution_count": 3,
   "metadata": {},
   "outputs": [],
   "source": [
    "# 홈페이지 접속\n",
    "url = 'https://career.programmers.co.kr/job?page=1&tags=AWS%20EC2&order=recent'\n",
    "\n",
    "driver = webdriver.Chrome()\n",
    "driver.get(url)\n",
    "\n",
    "while True:\n",
    "    for corp in range(1,21):\n",
    "        try:\n",
    "            driver.find_element(By.XPATH, f'//*[@id=\"list-positions-wrapper\"]/ul/li[{corp}]/div[2]/div[1]/h5/a').click()\n",
    "            driver.switch_to.window(driver.window_handles[-1])\n",
    "            time.sleep(1)\n",
    "\n",
    "            soup = BeautifulSoup(driver.page_source, 'html.parser')\n",
    "            time.sleep(1)\n",
    "\n",
    "            # 1. 기업명\n",
    "            corp_name = driver.find_element(By.XPATH, '//*[@id=\"career-app-legacy\"]/div/div[1]/div[1]/header/div/div[2]/h4/a').text\n",
    "            # 7. 주소\n",
    "            address = driver.find_element(By.XPATH, '//*[@id=\"career-app-legacy\"]/div/div[1]/div[1]/section/div/div[2]/div/div[2]').text\n",
    "            # 8. 직무\n",
    "            job_description = driver.find_element(By.XPATH, '//*[@id=\"career-app-legacy\"]/div/div[1]/div[1]/section/div/div[1]/div[1]/div[2]').text\n",
    "            # 9. 이용하는 기술 스택\n",
    "            job_skill = driver.find_element(By.XPATH, '//*[@id=\"career-app-legacy\"]/div/div[1]/div[1]/div[2]/section/ul').text\n",
    "            # 10. 자격요건\n",
    "            job_requirements = driver.find_element(By.XPATH, '//*[@id=\"career-app-legacy\"]/div/div[1]/div[1]/div[3]/section[2]/div').text\n",
    "            # 11. 직급\n",
    "            career = driver.find_element(By.XPATH, '//*[@id=\"career-app-legacy\"]/div/div[1]/div[1]/section/div/div[1]/div[4]/div[2]').text\n",
    "            # 12. 우대사항\n",
    "            job_preferential = driver.find_element(By.XPATH, '//*[@id=\"career-app-legacy\"]/div/div[1]/div[1]/div[3]/section[3]/div/div').text\n",
    "            # 13. 해당페이지 URL\n",
    "            employment_url = soup.select('meta')[10].get('content')\n",
    "\n",
    "            # 3,14번 크롤링을 위한 기업 클릭\n",
    "            driver.find_element(By.XPATH, '//*[@id=\"career-app-legacy\"]/div/div[1]/div[1]/header/div/div[2]/h4/a').click()\n",
    "            driver.switch_to.window(driver.window_handles[-1])\n",
    "            time.sleep(1)\n",
    "\n",
    "            soup = BeautifulSoup(driver.page_source, 'html.parser')\n",
    "\n",
    "            # 3. 사원 수\n",
    "            employee = driver.find_element(By.XPATH, '//*[@id=\"career-app-legacy\"]/div/div/div/div[2]/section[1]/ul/li[2]/h6[2]').text\n",
    "            # 14. 기업 홈페이지 URL\n",
    "            corp_url = soup.select('h6.list-value a')[0].get('href')\n",
    "\n",
    "            programmers_temp = pd.DataFrame(\n",
    "                [corp_name,employee,address,job_description,job_skill,job_requirements,career,job_preferential,\n",
    "                employment_url,corp_url], \n",
    "                index = ['기업명','사원수','주소','직무','이용하는 기술스택','자격요건','직급','우대사항','해당 페이지 URL','기업 홈페이지 URL']).T\n",
    "            \n",
    "            programmers_res = pd.concat([programmers_res, programmers_temp])\n",
    "            \n",
    "            driver.close()\n",
    "            driver.switch_to.window(driver.window_handles[0])\n",
    "            time.sleep(1)\n",
    "        except:\n",
    "            break\n",
    "    \n",
    "    # 페이지 반복\n",
    "    try:\n",
    "        driver.find_element(By.XPATH, '//*[@id=\"tab_position\"]/div[3]/ul/li[5]/span').click()\n",
    "        time.sleep(1)\n",
    "\n",
    "    except:\n",
    "        break\n",
    "\n",
    "driver.quit()"
   ]
  },
  {
   "cell_type": "code",
   "execution_count": 4,
   "metadata": {},
   "outputs": [],
   "source": [
    "programmers_res.to_csv('./programmers.csv')"
   ]
  }
 ],
 "metadata": {
  "kernelspec": {
   "display_name": "base",
   "language": "python",
   "name": "python3"
  },
  "language_info": {
   "codemirror_mode": {
    "name": "ipython",
    "version": 3
   },
   "file_extension": ".py",
   "mimetype": "text/x-python",
   "name": "python",
   "nbconvert_exporter": "python",
   "pygments_lexer": "ipython3",
   "version": "3.11.5"
  }
 },
 "nbformat": 4,
 "nbformat_minor": 2
}
