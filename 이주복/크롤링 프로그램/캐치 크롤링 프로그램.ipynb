{
 "cells": [
  {
   "cell_type": "markdown",
   "metadata": {},
   "source": [
    "# 캐치 크롤링\n",
    "- 크롤링할 컬럼: 기업명, 기업형태, 매출액, 사원수, 업종분류, 설립연도\n",
    "- 절차\n",
    "1. url로 기업명 입력\n",
    "2. 기업정보 사이트 접속\n",
    "3. 내용 크롤링\n",
    "4. concat\n",
    "5. 다음 url 입력\n",
    "\n",
    "위 절차를 반복합니다."
   ]
  },
  {
   "cell_type": "code",
   "execution_count": null,
   "metadata": {},
   "outputs": [],
   "source": [
    "import pandas as pd\n",
    "# 정적크롤링\n",
    "from bs4 import BeautifulSoup\n",
    "import requests\n",
    "import re\n",
    "# 동적크롤링\n",
    "from selenium import webdriver\n",
    "from selenium.webdriver.common.by import By\n",
    "from selenium.webdriver.common.keys import Keys\n",
    "import time"
   ]
  },
  {
   "cell_type": "code",
   "execution_count": null,
   "metadata": {},
   "outputs": [],
   "source": [
    "# 파일 불러오기: 불러올 파일을 현재 폴더에 넣어두세요.\n",
    "df = pd.read_csv('./programmers.csv')  # 파일명만 변경하여 그대로 돌리시면 됩니다.\n",
    "df_corp_name = df['기업명']  # 기업명 불러오기"
   ]
  },
  {
   "cell_type": "code",
   "execution_count": null,
   "metadata": {},
   "outputs": [],
   "source": [
    "# 임시 프레임\n",
    "catch_res = pd.DataFrame(columns=['기업명','기업형태','매출액','사원수','업종분류','설립연도'])"
   ]
  },
  {
   "cell_type": "code",
   "execution_count": null,
   "metadata": {},
   "outputs": [],
   "source": [
    "# 크롤링 프로그램\n",
    "for name in df_corp_name:\n",
    "    try:\n",
    "        url = f'https://www.catch.co.kr/Search/SearchDetail?Menu=2&Keyword={name}'\n",
    "\n",
    "        driver= webdriver.Chrome()\n",
    "        driver.get(url)\n",
    "\n",
    "        driver.find_element(By.XPATH, '//*[@id=\"leftTop\"]/ul/li/div[2]/p[1]/a').click()\n",
    "        time.sleep(0.2)\n",
    "\n",
    "        # 기업명\n",
    "        corp_name = name\n",
    "        # 기업형태\n",
    "        corp_type = driver.find_element(By.XPATH, '//*[@id=\"Contents\"]/div[2]/div[1]/table/tbody/tr[2]/td[1]').text\n",
    "        # 매출액\n",
    "        sales_money = driver.find_element(By.XPATH, '//*[@id=\"Contents\"]/div[2]/div[1]/table/tbody/tr[3]/td[1]').text\n",
    "        # 사원수\n",
    "        employee = driver.find_element(By.XPATH, '//*[@id=\"Contents\"]/div[2]/div[1]/table/tbody/tr[3]/td[2]').text\n",
    "        # 업종분류\n",
    "        try:\n",
    "            sector = driver.find_element(By.XPATH, '//*[@id=\"Contents\"]/div[2]/div[1]/table/tbody/tr[5]/td[1]').text\n",
    "        except:\n",
    "            sector = driver.find_element(By.XPATH, '//*[@id=\"Contents\"]/div[2]/div[1]/table/tbody/tr[4]/td[1]').text\n",
    "        # 설립연도\n",
    "        corp_year = driver.find_element(By.XPATH, '//*[@id=\"Contents\"]/div[2]/div[1]/table/tbody/tr[1]/td[2]').text\n",
    "\n",
    "        catch_temp = pd.DataFrame([corp_name, corp_type, sales_money, employee, sector, corp_year],\n",
    "                                   index=['기업명','기업형태','매출액','사원수','업종분류','설립연도']).T\n",
    "        catch_res = pd.concat([catch_res, catch_temp])\n",
    "\n",
    "        time.sleep(0.2)\n",
    "    except:\n",
    "        pass\n",
    "    \n",
    "    driver.quit()"
   ]
  },
  {
   "cell_type": "code",
   "execution_count": null,
   "metadata": {},
   "outputs": [],
   "source": [
    "catch_res.to_csv('./catch_result2.csv')  # 파일명만 변경하여 저장하시면 됩니다."
   ]
  },
  {
   "cell_type": "markdown",
   "metadata": {},
   "source": [
    "# 코드 수정"
   ]
  },
  {
   "cell_type": "code",
   "execution_count": null,
   "metadata": {},
   "outputs": [],
   "source": [
    "import pandas as pd\n",
    "# 정적크롤링\n",
    "from bs4 import BeautifulSoup\n",
    "import requests\n",
    "import re\n",
    "# 동적크롤링\n",
    "from selenium import webdriver\n",
    "from selenium.webdriver.common.by import By\n",
    "from selenium.webdriver.common.keys import Keys\n",
    "import time"
   ]
  },
  {
   "cell_type": "code",
   "execution_count": null,
   "metadata": {},
   "outputs": [],
   "source": [
    "# 파일 불러오기: 불러올 파일을 현재 폴더에 넣어두세요.\n",
    "df = pd.read_csv('./programmers.csv')  # 파일명만 변경하여 그대로 돌리시면 됩니다.\n",
    "df_corp_name = df['기업명']  # 기업명 불러오기"
   ]
  },
  {
   "cell_type": "code",
   "execution_count": null,
   "metadata": {},
   "outputs": [],
   "source": [
    "# 임시 프레임\n",
    "catch_res = pd.DataFrame(columns=['기업명','기업형태','매출액','사원수','업종분류','설립연도'])"
   ]
  },
  {
   "cell_type": "code",
   "execution_count": null,
   "metadata": {},
   "outputs": [],
   "source": [
    "# 크롤링 프로그램\n",
    "for name in df_corp_name:\n",
    "    url = f'https://www.catch.co.kr/Search/SearchDetail?Menu=2&Keyword={name}'  # 기업명으로 URL불러오기\n",
    "\n",
    "    driver= webdriver.Chrome()\n",
    "    driver.get(url)\n",
    "    \n",
    "    try:\n",
    "        driver.find_element(By.XPATH, '//*[@id=\"leftTop\"]/ul/li/div[2]/p[1]/a').click()\n",
    "        time.sleep(0.2)\n",
    "        soup = BeautifulSoup(driver.page_source, 'html.parser')\n",
    "\n",
    "        # 기업명\n",
    "        corp_name = name\n",
    "        corp_year = soup.select('td')[1].text  # 설립연도\n",
    "        corp_type = soup.select('td')[2].text  # 기업 형태\n",
    "        if len(soup.select('td')) == 10:\n",
    "            sales_money = soup.select('td')[4].text  # 매출액\n",
    "            employee = soup.select('td')[8].text  # 사원수\n",
    "            sector = soup.select('td')[9].text  # 업종분류\n",
    "        elif len(soup.select('td')) == 8:\n",
    "            sales_money = soup.select('td')[4].text  # 매출액\n",
    "            employee = soup.select('td')[5].text  # 사원수\n",
    "            sector = soup.select('td')[6].text  # 업종분류        \n",
    "        else:\n",
    "            employee = soup.select('td')[4].text  # 사원수\n",
    "            sector = soup.select('td')[5].text  # 업종분류\n",
    "\n",
    "        catch_temp = pd.DataFrame([corp_name, corp_type, sales_money, employee, sector, corp_year],\n",
    "                                   index=['기업명','기업형태','매출액','사원수','업종분류','설립연도']).T\n",
    "        catch_res = pd.concat([catch_res, catch_temp])\n",
    "\n",
    "        time.sleep(0.2)\n",
    "    except:\n",
    "        pass\n",
    "    \n",
    "driver.quit()"
   ]
  },
  {
   "cell_type": "code",
   "execution_count": null,
   "metadata": {},
   "outputs": [],
   "source": [
    "catch_res.to_csv('./catch_result.csv')  # 파일명만 변경하여 저장하시면 됩니다."
   ]
  },
  {
   "cell_type": "markdown",
   "metadata": {},
   "source": [
    "# 2차 수정(최종본)\n",
    "※ 주의사항: 사이트가 불안정하여 오류가 날 경우 time.sleep을 넉넉하게 설정하여 주세요"
   ]
  },
  {
   "cell_type": "code",
   "execution_count": 1,
   "metadata": {},
   "outputs": [],
   "source": [
    "import pandas as pd\n",
    "import numpy as np\n",
    "# 정적크롤링\n",
    "from bs4 import BeautifulSoup\n",
    "import requests\n",
    "import re\n",
    "# 동적크롤링\n",
    "from selenium import webdriver\n",
    "from selenium.webdriver.common.by import By\n",
    "from selenium.webdriver.common.keys import Keys\n",
    "import time"
   ]
  },
  {
   "cell_type": "code",
   "execution_count": 7,
   "metadata": {},
   "outputs": [],
   "source": [
    "corp_df = pd.read_csv('./programmers.csv', index_col=0)  # 파일명만 변경하여 그대로 돌리시면 됩니다.\n",
    "corp_df.reset_index(drop=True, inplace=True)  # 인덱스 재설정\n",
    "# corp_list = corp_df['기업명'].drop_duplicates()  # 기업명 중복제거"
   ]
  },
  {
   "cell_type": "code",
   "execution_count": 8,
   "metadata": {},
   "outputs": [
    {
     "data": {
      "text/plain": [
       "Index(['기업명', '사원수', '주소', '직무', '이용하는 기술스택', '자격요건', '직급', '우대사항',\n",
       "       '해당 페이지 URL', '기업 홈페이지 URL'],\n",
       "      dtype='object')"
      ]
     },
     "execution_count": 8,
     "metadata": {},
     "output_type": "execute_result"
    }
   ],
   "source": [
    "corp_df.columns"
   ]
  },
  {
   "cell_type": "code",
   "execution_count": 4,
   "metadata": {},
   "outputs": [],
   "source": [
    "# 결과를 저장할 빈 프레임\n",
    "df_res = pd.DataFrame(columns=['기업규모', '기업형태', '당기손익', '대표자', '매출액','사원수', '상세업종', '설립일', '신용등급', '영업이익', '카테고리'])  "
   ]
  },
  {
   "cell_type": "code",
   "execution_count": 5,
   "metadata": {},
   "outputs": [
    {
     "ename": "AttributeError",
     "evalue": "'DataFrame' object has no attribute '기업명'",
     "output_type": "error",
     "traceback": [
      "\u001b[1;31m---------------------------------------------------------------------------\u001b[0m",
      "\u001b[1;31mAttributeError\u001b[0m                            Traceback (most recent call last)",
      "\u001b[1;32m~\\AppData\\Local\\Temp\\ipykernel_30224\\4032839869.py\u001b[0m in \u001b[0;36m?\u001b[1;34m()\u001b[0m\n\u001b[0;32m      1\u001b[0m \u001b[1;31m# 크롤링 프로그램\u001b[0m\u001b[1;33m\u001b[0m\u001b[1;33m\u001b[0m\u001b[0m\n\u001b[1;32m----> 2\u001b[1;33m \u001b[1;32mfor\u001b[0m \u001b[0mname\u001b[0m \u001b[1;32min\u001b[0m \u001b[0mcorp_df\u001b[0m\u001b[1;33m.\u001b[0m\u001b[0m기업명\u001b[0m\u001b[1;33m:\u001b[0m\u001b[1;33m\u001b[0m\u001b[1;33m\u001b[0m\u001b[0m\n\u001b[0m\u001b[0;32m      3\u001b[0m     \u001b[0murl\u001b[0m \u001b[1;33m=\u001b[0m \u001b[1;34mf'https://www.catch.co.kr/Search/SearchDetail?Menu=2&Keyword={name}'\u001b[0m  \u001b[1;31m# 기업명으로 URL불러오기\u001b[0m\u001b[1;33m\u001b[0m\u001b[1;33m\u001b[0m\u001b[0m\n\u001b[0;32m      4\u001b[0m \u001b[1;33m\u001b[0m\u001b[0m\n\u001b[0;32m      5\u001b[0m     \u001b[0mdriver\u001b[0m\u001b[1;33m=\u001b[0m \u001b[0mwebdriver\u001b[0m\u001b[1;33m.\u001b[0m\u001b[0mChrome\u001b[0m\u001b[1;33m(\u001b[0m\u001b[1;33m)\u001b[0m\u001b[1;33m\u001b[0m\u001b[1;33m\u001b[0m\u001b[0m\n",
      "\u001b[1;32mc:\\ProgramData\\anaconda3\\Lib\\site-packages\\pandas\\core\\generic.py\u001b[0m in \u001b[0;36m?\u001b[1;34m(self, name)\u001b[0m\n\u001b[0;32m   5985\u001b[0m             \u001b[1;32mand\u001b[0m \u001b[0mname\u001b[0m \u001b[1;32mnot\u001b[0m \u001b[1;32min\u001b[0m \u001b[0mself\u001b[0m\u001b[1;33m.\u001b[0m\u001b[0m_accessors\u001b[0m\u001b[1;33m\u001b[0m\u001b[1;33m\u001b[0m\u001b[0m\n\u001b[0;32m   5986\u001b[0m             \u001b[1;32mand\u001b[0m \u001b[0mself\u001b[0m\u001b[1;33m.\u001b[0m\u001b[0m_info_axis\u001b[0m\u001b[1;33m.\u001b[0m\u001b[0m_can_hold_identifiers_and_holds_name\u001b[0m\u001b[1;33m(\u001b[0m\u001b[0mname\u001b[0m\u001b[1;33m)\u001b[0m\u001b[1;33m\u001b[0m\u001b[1;33m\u001b[0m\u001b[0m\n\u001b[0;32m   5987\u001b[0m         ):\n\u001b[0;32m   5988\u001b[0m             \u001b[1;32mreturn\u001b[0m \u001b[0mself\u001b[0m\u001b[1;33m[\u001b[0m\u001b[0mname\u001b[0m\u001b[1;33m]\u001b[0m\u001b[1;33m\u001b[0m\u001b[1;33m\u001b[0m\u001b[0m\n\u001b[1;32m-> 5989\u001b[1;33m         \u001b[1;32mreturn\u001b[0m \u001b[0mobject\u001b[0m\u001b[1;33m.\u001b[0m\u001b[0m__getattribute__\u001b[0m\u001b[1;33m(\u001b[0m\u001b[0mself\u001b[0m\u001b[1;33m,\u001b[0m \u001b[0mname\u001b[0m\u001b[1;33m)\u001b[0m\u001b[1;33m\u001b[0m\u001b[1;33m\u001b[0m\u001b[0m\n\u001b[0m",
      "\u001b[1;31mAttributeError\u001b[0m: 'DataFrame' object has no attribute '기업명'"
     ]
    }
   ],
   "source": [
    "# 크롤링 프로그램\n",
    "for name in corp_df.기업명:\n",
    "    url = f'https://www.catch.co.kr/Search/SearchDetail?Menu=2&Keyword={name}'  # 기업명으로 URL불러오기\n",
    "\n",
    "    driver= webdriver.Chrome()\n",
    "    driver.get(url)\n",
    "    try:\n",
    "        driver.find_element(By.XPATH, '//*[@id=\"leftTop\"]/ul/li/div[2]/p[1]/a').click()\n",
    "        time.sleep(0.3)\n",
    "        soup = BeautifulSoup(driver.page_source, 'html.parser')\n",
    "\n",
    "        list = ['기업명']  # 컬럼이 될 리스트\n",
    "        list2 = [name]  # 값이 될 리스트\n",
    "        for i in soup.find_all('tbody')[0].select('th'):\n",
    "            list.append(i.text)\n",
    "\n",
    "        for j in soup.find_all('tbody')[0].select('td'):\n",
    "            list2.append(j.text)\n",
    "    except:\n",
    "        pass\n",
    "    df_temp = pd.DataFrame([list2], columns=list)\n",
    "    df_temp.reset_index(drop=True, inplace=True)\n",
    "    df_res = pd.concat([df_res, df_temp], ignore_index=True)  # 결과 DataFrame과 새로운 DataFrame을 결합\n",
    "    df_res.reset_index(drop=True, inplace=True)\n",
    "\n",
    "driver.quit()"
   ]
  },
  {
   "cell_type": "markdown",
   "metadata": {},
   "source": [
    "# 캐치 전처리"
   ]
  },
  {
   "cell_type": "code",
   "execution_count": null,
   "metadata": {},
   "outputs": [],
   "source": [
    "df_result = df_res[['기업명','기업규모','매출액','사원수','설립일','상세업종']]  # 필요한 컬럼만 추출\n",
    "df_result.rename(columns={'설립일': '설립연도', '상세업종': '업종분류', '기업규모': '기업형태'}, inplace=True)  # 컬럼이름 변경"
   ]
  },
  {
   "cell_type": "code",
   "execution_count": null,
   "metadata": {},
   "outputs": [],
   "source": [
    "# 매출액 전처리\n",
    "m_list = []  \n",
    "m_list2 = []  \n",
    "m_list3 = []\n",
    "# '조'와 '억'만 남기기\n",
    "for m in df_result['매출액']:\n",
    "    if m == None:  # 결측치인 경우 str타입으로 변경\n",
    "        m_list.append(str(m))\n",
    "    elif '재무제표' in str(m):\n",
    "        m_list.append(re.sub('\\n', '', m.split(':')[-1].strip()))\n",
    "    else:\n",
    "        m_list.append(re.sub('\\n', '', str(m)).split()[0])\n",
    "# 억에서 , 제외하기\n",
    "for m2 in m_list:\n",
    "    m_list2.append(re.sub(',', '', m2))\n",
    "\n",
    "# 조, 억, 만원을 만의단위로 변경하기\n",
    "for m3 in m_list2:\n",
    "    if m3 == '-' or m3 == 'nan':  # 결측치 처리\n",
    "        m_list3.append(None)\n",
    "    else:\n",
    "        조_matches = re.findall(r'(\\d+)조', m3)\n",
    "        조 = int(조_matches[0]) * 10**8 if 조_matches else 0\n",
    "\n",
    "        억_matches = re.findall(r'(\\d+)억', m3)\n",
    "        억 = int(억_matches[0]) * 10**4 if 억_matches else 0\n",
    "\n",
    "        만원_matches = re.findall(r'(\\d+)만원', m3)\n",
    "        만원 = int(만원_matches[0]) if 만원_matches else 0\n",
    "\n",
    "        m_list3.append(조 + 억 + 만원)\n",
    "        \n",
    "df_result['매출액'] = m_list3"
   ]
  },
  {
   "cell_type": "code",
   "execution_count": null,
   "metadata": {},
   "outputs": [],
   "source": [
    "# 사원수\n",
    "peo_list =[]\n",
    "\n",
    "for p in df_result['사원수']:\n",
    "    try:\n",
    "        if '-명' in p:\n",
    "            peo_list.append(None)\n",
    "        elif '명' in p:\n",
    "            peo_list.append(int(re.findall(r'\\d+', re.sub(',', '', p))[0]))\n",
    "    except:\n",
    "        peo_list.append(None)\n",
    "\n",
    "df_result['사원수'] = peo_list"
   ]
  },
  {
   "cell_type": "code",
   "execution_count": null,
   "metadata": {},
   "outputs": [],
   "source": [
    "# 설립연도\n",
    "year_list = []\n",
    "\n",
    "for y in df_result['설립연도']:\n",
    "    try:\n",
    "        year_list.append(int(re.findall(r'\\d+', y)[0]))\n",
    "    except:\n",
    "        year_list.append(None)\n",
    "        \n",
    "df_result['설립연도'] = year_list"
   ]
  },
  {
   "cell_type": "code",
   "execution_count": null,
   "metadata": {},
   "outputs": [],
   "source": [
    "# 인덱스 재설정\n",
    "df_result.reset_index(drop=True, inplace=True)"
   ]
  }
 ],
 "metadata": {
  "kernelspec": {
   "display_name": "base",
   "language": "python",
   "name": "python3"
  },
  "language_info": {
   "codemirror_mode": {
    "name": "ipython",
    "version": 3
   },
   "file_extension": ".py",
   "mimetype": "text/x-python",
   "name": "python",
   "nbconvert_exporter": "python",
   "pygments_lexer": "ipython3",
   "version": "3.11.5"
  }
 },
 "nbformat": 4,
 "nbformat_minor": 2
}
