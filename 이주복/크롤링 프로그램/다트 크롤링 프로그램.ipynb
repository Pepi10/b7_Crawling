{
 "cells": [
  {
   "cell_type": "markdown",
   "metadata": {},
   "source": [
    "# 다트 크롤링\n",
    "- 크롤링할 컬럼: 기업명, 주소, 업종분류, 설립연도, 기업홈페이지URL\n",
    "- 절차\n",
    "1. 다트 공시현황 사이트 접속\n",
    "2. 기업명 타이핑하여 공시정보 접속\n",
    "3. 내용 크롤링\n",
    "4. 타이핑 되어있는 기업명 제거\n",
    "5. concat\n",
    "6. 다음 기업명 타이핑하여 공시정보 접속\n",
    "\n",
    "위 절차를 반복합니다."
   ]
  },
  {
   "cell_type": "code",
   "execution_count": null,
   "metadata": {},
   "outputs": [],
   "source": [
    "import pandas as pd\n",
    "# 정적크롤링\n",
    "from bs4 import BeautifulSoup\n",
    "import requests\n",
    "import re\n",
    "# 동적크롤링\n",
    "from selenium import webdriver\n",
    "from selenium.webdriver.common.by import By\n",
    "import time\n",
    "from selenium.webdriver.common.keys import Keys"
   ]
  },
  {
   "cell_type": "code",
   "execution_count": null,
   "metadata": {},
   "outputs": [],
   "source": [
    "# 파일 불러오기: 불러올 파일을 현재 폴더에 넣어두세요.\n",
    "df = pd.read_csv('./programmers.csv')  # 파일명만 변경하여 그대로 돌리시면 됩니다."
   ]
  },
  {
   "cell_type": "code",
   "execution_count": null,
   "metadata": {},
   "outputs": [],
   "source": [
    "# 임시 프레임\n",
    "dart_res = pd.DataFrame(columns=['기업명','주소','업종분류','설립연도','기업홈페이지URL'])"
   ]
  },
  {
   "cell_type": "code",
   "execution_count": null,
   "metadata": {},
   "outputs": [],
   "source": [
    "# 크롤링 프로그램\n",
    "url = 'https://dart.fss.or.kr/dsae001/main.do#none'\n",
    "\n",
    "driver= webdriver.Chrome()\n",
    "driver.get(url)\n",
    "\n",
    "driver.find_element(By.XPATH, '//*[@id=\"textCrpNm\"]').clear()\n",
    "\n",
    "for i in df['기업명']:\n",
    "    try:\n",
    "        driver.find_element(By.XPATH, '//*[@id=\"textCrpNm\"]').send_keys(i)  # 키워드 작성\n",
    "        driver.find_element(By.XPATH, '//*[@id=\"rightWrap\"]/div[1]/div[1]/ul/li[3]/a').click()\n",
    "        driver.find_element(By.XPATH, '//*[@id=\"rightWrap\"]/div[1]/div[1]/ul/li[3]/a').click()\n",
    "        time.sleep(.1)\n",
    "        driver.find_element(By.XPATH, '//*[@id=\"corpTabel\"]/tbody/tr/td[1]/span/a').click()\n",
    "\n",
    "        soup = BeautifulSoup(driver.page_source, 'html.parser')\n",
    "\n",
    "        # 기업명\n",
    "        corp_name = i\n",
    "        # 주소\n",
    "        address = driver.find_element(By.XPATH, '//*[@id=\"corpDetailTabel\"]/tbody/tr[9]/td').text\n",
    "        # 업종명\n",
    "        sector = driver.find_element(By.XPATH, '//*[@id=\"corpDetailTabel\"]/tbody/tr[14]/td').text\n",
    "        # 설립일\n",
    "        corp_year = driver.find_element(By.XPATH, '//*[@id=\"corpDetailTabel\"]/tbody/tr[15]/td').text\n",
    "        # 기업 홈페이지URL\n",
    "        corp_url = driver.find_element(By.XPATH, '//*[@id=\"homePage\"]').text\n",
    "\n",
    "        dart_temp = pd.DataFrame([corp_name, address, sector, corp_year, corp_url],\n",
    "                                  index=['기업명','주소','업종분류','설립연도','기업홈페이지URL']).T\n",
    "        dart_res = pd.concat([dart_res, dart_temp])\n",
    "\n",
    "        # 키워드 지우기\n",
    "        driver.find_element(By.XPATH, '//*[@id=\"textCrpNm\"]').clear()\n",
    "        time.sleep(.1)\n",
    "        \n",
    "    except:\n",
    "        driver.find_element(By.XPATH, '//*[@id=\"textCrpNm\"]').clear()\n",
    "\n",
    "driver.quit()"
   ]
  },
  {
   "cell_type": "code",
   "execution_count": null,
   "metadata": {},
   "outputs": [],
   "source": [
    "dart_res.to_csv('./dart_result.csv')"
   ]
  },
  {
   "cell_type": "markdown",
   "metadata": {},
   "source": [
    "# 코드 수정\n",
    "- 기업명 키워드로 나온 모든 기업정보 크롤링"
   ]
  },
  {
   "cell_type": "code",
   "execution_count": null,
   "metadata": {},
   "outputs": [],
   "source": [
    "import pandas as pd\n",
    "# 정적크롤링\n",
    "from bs4 import BeautifulSoup\n",
    "import requests\n",
    "import re\n",
    "# 동적크롤링\n",
    "from selenium import webdriver\n",
    "from selenium.webdriver.common.by import By\n",
    "import time\n",
    "from selenium.webdriver.common.keys import Keys"
   ]
  },
  {
   "cell_type": "code",
   "execution_count": null,
   "metadata": {},
   "outputs": [],
   "source": [
    "# 파일 불러오기: 불러올 파일을 현재 폴더에 넣어두세요.\n",
    "df = pd.read_csv('./programmers.csv')  # 파일명만 변경하여 그대로 돌리시면 됩니다.\n",
    "df_corp_name = df['기업명']  # 기업명 불러오기"
   ]
  },
  {
   "cell_type": "code",
   "execution_count": null,
   "metadata": {},
   "outputs": [],
   "source": [
    "# 임시 프레임\n",
    "dart_res = pd.DataFrame(columns=['기업명', '다트기업명','주소','업종분류','설립연도','기업 홈페이지 URL'])"
   ]
  },
  {
   "cell_type": "code",
   "execution_count": null,
   "metadata": {},
   "outputs": [],
   "source": [
    "# 크롤링 프로그램\n",
    "url = 'https://dart.fss.or.kr/dsae001/main.do#none'\n",
    "\n",
    "driver = webdriver.Chrome()\n",
    "driver.get(url)\n",
    "\n",
    "for co in df['기업명']:\n",
    "    try:\n",
    "        # 기업명 입력 및 검색 로직\n",
    "        driver.find_element(By.XPATH, '//*[@id=\"textCrpNm\"]').send_keys(co)\n",
    "        # 검색 버튼 클릭 등의 로직\n",
    "        driver.find_element(By.XPATH, '//*[@id=\"rightWrap\"]/div[1]/div[1]/ul/li[3]/a').click()\n",
    "        time.sleep(.1)\n",
    "\n",
    "        for i in range(100):\n",
    "            try:\n",
    "                driver.find_element(By.XPATH, f'//*[@id=\"corpTabel\"]/tbody/tr[{i}]/td[1]/span/a').click()\n",
    "                soup = BeautifulSoup(driver.page_source, 'html.parser')\n",
    "                    \n",
    "                # 다트 내 기업명\n",
    "                corp_name = driver.find_element(By.XPATH, '//*[@id=\"corpDetailTabel\"]/tbody/tr[3]/td').text\n",
    "                # 주소\n",
    "                address = driver.find_element(By.XPATH, '//*[@id=\"corpDetailTabel\"]/tbody/tr[9]/td').text\n",
    "                # 업종명\n",
    "                sector = driver.find_element(By.XPATH, '//*[@id=\"corpDetailTabel\"]/tbody/tr[14]/td').text\n",
    "                # 설립일\n",
    "                corp_year = driver.find_element(By.XPATH, '//*[@id=\"corpDetailTabel\"]/tbody/tr[15]/td').text\n",
    "                # 기업 홈페이지URL\n",
    "                corp_url = driver.find_element(By.XPATH, '//*[@id=\"homePage\"]').text\n",
    "                \n",
    "                dart_temp = pd.DataFrame([[co, corp_name, address, sector, corp_year, corp_url]],\n",
    "                                            columns=['기업명', '다트기업명', '주소', '업종분류', '설립연도', '기업 홈페이지 URL'])\n",
    "                dart_res = pd.concat([dart_res, dart_temp])\n",
    "            except:\n",
    "                # 예외 처리 및 검색창 지우기\n",
    "                driver.find_element(By.XPATH, '//*[@id=\"textCrpNm\"]').clear()\n",
    "\n",
    "    except:\n",
    "        # 예외 처리 및 검색창 지우기\n",
    "        driver.find_element(By.XPATH, '//*[@id=\"textCrpNm\"]').clear()\n",
    "\n",
    "driver.quit()"
   ]
  },
  {
   "cell_type": "code",
   "execution_count": null,
   "metadata": {},
   "outputs": [],
   "source": [
    "dart_res.to_csv('./dart.result.csv')"
   ]
  },
  {
   "cell_type": "markdown",
   "metadata": {},
   "source": [
    "# 다트 전처리"
   ]
  },
  {
   "cell_type": "code",
   "execution_count": null,
   "metadata": {},
   "outputs": [],
   "source": [
    "dart_res.설립연도 = dart_res.설립연도.apply(lambda x: ''.join(re.findall(r'\\d\\d\\d\\d', x)))  # 설립연도\n",
    "dart_res.주소 = dart_res.주소.apply(lambda x: ' '.join(re.findall(r'\\b(\\w+[구시도])\\b', x)))  # 주소\n",
    "dart_res.설립연도 = dart_res.설립연도.astype(int)  # 타입변경\n",
    "dart_res.reset_index(drop=True, inplace=True)  # 인덱스 재설정"
   ]
  },
  {
   "cell_type": "code",
   "execution_count": null,
   "metadata": {},
   "outputs": [],
   "source": [
    "dart_res"
   ]
  }
 ],
 "metadata": {
  "kernelspec": {
   "display_name": "base",
   "language": "python",
   "name": "python3"
  },
  "language_info": {
   "codemirror_mode": {
    "name": "ipython",
    "version": 3
   },
   "file_extension": ".py",
   "mimetype": "text/x-python",
   "name": "python",
   "nbconvert_exporter": "python",
   "pygments_lexer": "ipython3",
   "version": "3.11.5"
  }
 },
 "nbformat": 4,
 "nbformat_minor": 2
}
