{
 "cells": [
  {
   "cell_type": "code",
   "execution_count": 1,
   "metadata": {},
   "outputs": [],
   "source": [
    "import pandas as pd"
   ]
  },
  {
   "cell_type": "code",
   "execution_count": 2,
   "metadata": {},
   "outputs": [],
   "source": [
    "wanted = pd.read_csv('wanted_result.csv', index_col=0)\n",
    "programmers = pd.read_csv('programmers_end.csv', index_col=0)\n",
    "rallit = pd.read_csv('rallit_end.csv', index_col=0)"
   ]
  },
  {
   "cell_type": "code",
   "execution_count": 3,
   "metadata": {},
   "outputs": [
    {
     "data": {
      "text/plain": [
       "Index(['기업명', '업종분류', '사원수', '설립연도', '기업형태', '매출액', '주소', '직무', '이용하는 기술스택',\n",
       "       '자격요건', '직급', '우대사항', '해당 페이지 URL', '기업 홈페이지 URL'],\n",
       "      dtype='object')"
      ]
     },
     "execution_count": 3,
     "metadata": {},
     "output_type": "execute_result"
    }
   ],
   "source": [
    "rallit.columns"
   ]
  },
  {
   "cell_type": "code",
   "execution_count": 4,
   "metadata": {},
   "outputs": [
    {
     "data": {
      "text/plain": [
       "Index(['기업명', '업종분류', '사원수', '설립연도', '기업형태', '매출액', '주소', '직무', '자격요건', '직급',\n",
       "       '이용하는기술스택/우대사항', '해당 페이지 URL', '기업 홈페이지 URL', '수요'],\n",
       "      dtype='object')"
      ]
     },
     "execution_count": 4,
     "metadata": {},
     "output_type": "execute_result"
    }
   ],
   "source": [
    "wanted.columns"
   ]
  },
  {
   "cell_type": "code",
   "execution_count": 5,
   "metadata": {},
   "outputs": [
    {
     "data": {
      "text/plain": [
       "Index(['기업명', '업종분류', '사원수', '설립연도', '기업형태', '매출액', '주소', '직무', '이용하는 기술스택',\n",
       "       '자격요건', '직급', '우대사항', '해당 페이지 URL', '기업 홈페이지 URL'],\n",
       "      dtype='object')"
      ]
     },
     "execution_count": 5,
     "metadata": {},
     "output_type": "execute_result"
    }
   ],
   "source": [
    "programmers.columns"
   ]
  },
  {
   "cell_type": "code",
   "execution_count": 6,
   "metadata": {},
   "outputs": [],
   "source": [
    "# 컬럼 맞추기\n",
    "programmers['이용하는기술스택/우대사항'] = programmers['이용하는 기술스택'] + programmers['우대사항']  # 이용하는 기술스택과 우대사항 합치기\n",
    "programmers.columns.drop(['이용하는 기술스택', '우대사항'])  # 컬럼 없애기\n",
    "programmers = programmers[['기업명','업종분류','사원수','설립연도','기업형태','매출액','주소','직무','자격요건','직급','이용하는기술스택/우대사항','해당 페이지 URL','기업 홈페이지 URL']]  # 열 순서 변경\n",
    "\n",
    "rallit['이용하는기술스택/우대사항'] = rallit['이용하는 기술스택'] + rallit['우대사항']\n",
    "rallit.columns.drop(['이용하는 기술스택', '우대사항'])  # 컬럼 없애기\n",
    "rallit = rallit[['기업명','업종분류','사원수','설립연도','기업형태','매출액','주소','직무','자격요건','직급','이용하는기술스택/우대사항','해당 페이지 URL','기업 홈페이지 URL']]  # 열 순서 변경\n",
    "\n",
    "wanted = wanted.drop(['수요'], axis=1)"
   ]
  },
  {
   "cell_type": "code",
   "execution_count": 7,
   "metadata": {},
   "outputs": [],
   "source": [
    "# concat\n",
    "cat1 = pd.concat([wanted,programmers])\n",
    "cat2 = pd.concat([cat1, rallit])\n",
    "# 중복제거\n",
    "final_data = cat2.drop_duplicates()"
   ]
  },
  {
   "cell_type": "code",
   "execution_count": 8,
   "metadata": {},
   "outputs": [],
   "source": [
    "# 최종 파일 저장\n",
    "final_data.to_csv('end_data.csv')"
   ]
  }
 ],
 "metadata": {
  "kernelspec": {
   "display_name": "base",
   "language": "python",
   "name": "python3"
  },
  "language_info": {
   "codemirror_mode": {
    "name": "ipython",
    "version": 3
   },
   "file_extension": ".py",
   "mimetype": "text/x-python",
   "name": "python",
   "nbconvert_exporter": "python",
   "pygments_lexer": "ipython3",
   "version": "3.11.5"
  }
 },
 "nbformat": 4,
 "nbformat_minor": 2
}
